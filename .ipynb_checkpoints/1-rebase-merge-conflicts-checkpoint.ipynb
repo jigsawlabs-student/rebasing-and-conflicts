{
 "cells": [
  {
   "cell_type": "markdown",
   "id": "0b35c278-4ad4-4d19-9f31-4fefdb63974c",
   "metadata": {},
   "source": [
    "# Rebasing and Merge Conflicts"
   ]
  },
  {
   "cell_type": "markdown",
   "id": "a715bcfc-f4fb-432f-81b9-d422c93354d4",
   "metadata": {},
   "source": [
    "### Introduction"
   ]
  },
  {
   "cell_type": "markdown",
   "id": "ea9b4b3a-7788-411f-94bb-f0c799812d2b",
   "metadata": {},
   "source": [
    "In this lesson, we can move through two different git features.  The first is rebasing and then the second is merge conflicts.  Let's get started."
   ]
  },
  {
   "cell_type": "markdown",
   "id": "66bafd14-0cab-41c9-8c71-5b630d4c3626",
   "metadata": {},
   "source": [
    "### Getting setup"
   ]
  },
  {
   "cell_type": "markdown",
   "id": "fcce6500-d75e-4566-9838-94a933d82aec",
   "metadata": {},
   "source": [
    "We can initialize a repository and add quickly add some content to a readme file with the following."
   ]
  },
  {
   "cell_type": "markdown",
   "id": "e121d22d-167d-4a36-9b36-cd9ad7da1f35",
   "metadata": {},
   "source": [
    "```bash\n",
    "mkdir sample-repo\n",
    "cd sample-repo\n",
    "git init\n",
    "touch readme.md\n",
    "echo \"hello everyone\" > readme.md\n",
    "```"
   ]
  },
  {
   "cell_type": "markdown",
   "id": "58f4a77a-e2c1-4a2c-95aa-dce386ce114d",
   "metadata": {},
   "source": [
    "We are currently on the main branch, and so make a commit with the following."
   ]
  },
  {
   "cell_type": "markdown",
   "id": "e81e5618-cea3-4cba-93e5-bb641eea17a9",
   "metadata": {},
   "source": [
    "```bash\n",
    "git add -A\n",
    "git commit -m 'add readme'\n",
    "```"
   ]
  },
  {
   "cell_type": "markdown",
   "id": "6dd5d1f1-47bd-4fdd-9685-6770fa1198ce",
   "metadata": {},
   "source": [
    "Ok, now let's move to a feature branch."
   ]
  },
  {
   "cell_type": "markdown",
   "id": "465e87b9-7b5f-4631-9eee-482509b22cbe",
   "metadata": {},
   "source": [
    "```bash\n",
    "git checkout -b feature_branch\n",
    "```"
   ]
  },
  {
   "cell_type": "markdown",
   "id": "d6bdbc78-ebe3-4e8a-898b-29db99290e37",
   "metadata": {},
   "source": [
    "And from there, now it's time to make a change with our feature branch.\n",
    "\n",
    "```bash\n",
    "touch index.py\n",
    "echo \"print('new feature')\" > index.py\n",
    "\n",
    "git add -A\n",
    "git commit -m 'add new feature'\n",
    "```"
   ]
  },
  {
   "cell_type": "markdown",
   "id": "432b6093-1229-4597-9247-4da7c7be3ef2",
   "metadata": {},
   "source": [
    "### Mimicking an Update"
   ]
  },
  {
   "cell_type": "markdown",
   "id": "a397da76-36de-4f74-9380-a9cb7dac7355",
   "metadata": {},
   "source": [
    "Now oftentimes, while we are developing a new feature, other contributors may make changes to main branch.  Let's mimic that now.  Check out the main branch, and then let's add two commits on the main branch."
   ]
  },
  {
   "cell_type": "markdown",
   "id": "a92f33d4-a956-41cc-b2ca-2303e262c033",
   "metadata": {
    "tags": []
   },
   "source": [
    "```bash\n",
    "git checkout main\n",
    "\n",
    "touch main_feature.py\n",
    "echo \"print('main feature')\" > main_feature.py\n",
    "\n",
    "git add -A\n",
    "git commit -m 'add main feature'\n",
    "\n",
    "touch second_main_feature.py\n",
    "echo \"print('second main feature')\" > second_main_feature.py\n",
    "\n",
    "git add -A\n",
    "git commit -m 'add second main feature'\n",
    "```"
   ]
  },
  {
   "cell_type": "markdown",
   "id": "491ed01a-a28e-4da2-b907-ba9d477bab63",
   "metadata": {},
   "source": [
    "Ok, so now let's figure out where we are.\n",
    "\n",
    "1. We have three commits on the main branch\n",
    "\n",
    "```bash\n",
    "git log\n",
    "commit 5259be9669181df1cc67a9025ac9213df599e1bc (HEAD -> main)\n",
    "Author: Jeff Katzy <jeffreyerickatz@gmail.com>\n",
    "Date:   Fri May 3 15:08:18 2024 -0700\n",
    "\n",
    "    add second main feature\n",
    "\n",
    "commit fc479371a8cead3852bba4161005b2798fb91aba\n",
    "Author: Jeff Katzy <jeffreyerickatz@gmail.com>\n",
    "Date:   Fri May 3 15:08:18 2024 -0700\n",
    "\n",
    "    add main feature\n",
    "\n",
    "commit 7fabe5caee7480737752a70bd411897a7c14454c\n",
    "Author: Jeff Katzy <jeffreyerickatz@gmail.com>\n",
    "Date:   Fri May 3 15:08:02 2024 -0700\n",
    "\n",
    "    add readme\n",
    "```\n",
    "\n",
    "\n",
    "And if we look at the logs of the feature branch, we'll see that it shares that first commit, and has an additional commit that main does not have. "
   ]
  },
  {
   "cell_type": "markdown",
   "id": "a84f0935-4efa-4a4b-a944-9c146de01aff",
   "metadata": {},
   "source": [
    "```bash\n",
    "git checkout feature_branch\n",
    "```"
   ]
  },
  {
   "cell_type": "markdown",
   "id": "6178983d-c0c7-4877-ad35-ed2b8f1b20b1",
   "metadata": {},
   "source": [
    "```bash\n",
    "git log\n",
    "\n",
    "commit 5dc73c08e00708ae49fc351346d4573464f0b81c (HEAD -> feature_branch)\n",
    "Author: Jeff Katzy <jeffreyerickatz@gmail.com>\n",
    "Date:   Fri May 3 15:08:11 2024 -0700\n",
    "\n",
    "    add new feature\n",
    "\n",
    "commit 7fabe5caee7480737752a70bd411897a7c14454c\n",
    "Author: Jeff Katzy <jeffreyerickatz@gmail.com>\n",
    "Date:   Fri May 3 15:08:02 2024 -0700\n",
    "\n",
    "    add readme\n",
    "```"
   ]
  },
  {
   "cell_type": "markdown",
   "id": "59b686fa-7c60-4861-a4f6-eed500e80811",
   "metadata": {},
   "source": [
    "So now think about our goal, we want to update our feature branch with the two additional commits on main.  But we also want to keep our additional feature branch commit on top.  We can accomplish this with a rebase.  From the `feature_branch` type the following."
   ]
  },
  {
   "cell_type": "markdown",
   "id": "98f3fdcf-5b34-498e-921a-cce8711b70b1",
   "metadata": {},
   "source": [
    "```bash\n",
    "git rebase main\n",
    "```"
   ]
  },
  {
   "cell_type": "markdown",
   "id": "cfd8f43b-ef25-45ea-9fec-4151b0ecbbf8",
   "metadata": {},
   "source": [
    "Now let's see what we did with `git log`."
   ]
  },
  {
   "cell_type": "markdown",
   "id": "2bf24139-1903-4277-b201-698e9b431cc4",
   "metadata": {},
   "source": [
    "```bash\n",
    "commit 6da0948b55b738cc09eba593d9fbf97a2d167369 (HEAD -> feature_branch)\n",
    "Author: Jeff Katzy <jeffreyerickatz@gmail.com>\n",
    "Date:   Fri May 3 15:08:11 2024 -0700\n",
    "\n",
    "    add new feature\n",
    "\n",
    "commit 5259be9669181df1cc67a9025ac9213df599e1bc (main)\n",
    "Author: Jeff Katzy <jeffreyerickatz@gmail.com>\n",
    "Date:   Fri May 3 15:08:18 2024 -0700\n",
    "\n",
    "    add second main feature\n",
    "\n",
    "commit fc479371a8cead3852bba4161005b2798fb91aba\n",
    "Author: Jeff Katzy <jeffreyerickatz@gmail.com>\n",
    "Date:   Fri May 3 15:08:18 2024 -0700\n",
    "\n",
    "    add main feature\n",
    "\n",
    "commit 7fabe5caee7480737752a70bd411897a7c14454c\n",
    "Author: Jeff Katzy <jeffreyerickatz@gmail.com>\n",
    "Date:   Fri May 3 15:08:02 2024 -0700\n",
    "\n",
    "    add readme\n",
    "```"
   ]
  },
  {
   "cell_type": "markdown",
   "id": "8fa97cf6-441a-459d-ae61-eb45ccfcf2c7",
   "metadata": {},
   "source": [
    "Ok, so the feature branch now shares the commits of the main branch, with the new feature commit on top.  This is perfect.  For example type `git log main`, and you can see that our feature branch is simply one commit ahead of the main branch, which is fine."
   ]
  },
  {
   "cell_type": "markdown",
   "id": "4c651cd4-3a31-4070-991e-efd3723e8580",
   "metadata": {},
   "source": [
    "The key thing is we want to make sure both a main branch and feature branch have a common history.  And our feature branch simply has one extra commit at the end, which we can easily merge onto the main branch."
   ]
  },
  {
   "cell_type": "markdown",
   "id": "57acca86-1262-4786-aa0e-97f6eb529326",
   "metadata": {},
   "source": [
    "### Resources\n",
    "\n",
    "[Merge Conflicts Atlassian](https://www.atlassian.com/git/tutorials/using-branches/merge-conflicts)"
   ]
  }
 ],
 "metadata": {
  "kernelspec": {
   "display_name": "Python 3 (ipykernel)",
   "language": "python",
   "name": "python3"
  },
  "language_info": {
   "codemirror_mode": {
    "name": "ipython",
    "version": 3
   },
   "file_extension": ".py",
   "mimetype": "text/x-python",
   "name": "python",
   "nbconvert_exporter": "python",
   "pygments_lexer": "ipython3",
   "version": "3.10.14"
  }
 },
 "nbformat": 4,
 "nbformat_minor": 5
}
