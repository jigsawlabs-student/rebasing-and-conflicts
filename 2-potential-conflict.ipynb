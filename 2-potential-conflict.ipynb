{
 "cells": [
  {
   "cell_type": "markdown",
   "id": "c55e09c9-48be-4aa3-8219-b770cd96e82c",
   "metadata": {},
   "source": [
    "# Conflict Resolution"
   ]
  },
  {
   "cell_type": "markdown",
   "id": "516d42f8-1560-480c-8437-11511d8d6240",
   "metadata": {},
   "source": [
    "### Introduction"
   ]
  },
  {
   "cell_type": "markdown",
   "id": "dc05a242-8e31-4c9e-863b-21127b23cce1",
   "metadata": {},
   "source": [
    "Merge conflicts can strike fear in the most seasoned of developers. And unfortunately, they can often occur when rebasing or merging a branch.  In this lesson, we'll both create and then resolve merge conflicts."
   ]
  },
  {
   "cell_type": "markdown",
   "id": "b7f0c04b-edeb-4959-93bc-6b3863f0802a",
   "metadata": {},
   "source": [
    "Believe it or not, git is trying to help us with these conflicts. It sees that one branch tried to change a file differently than the changes on another branch.  And it wants to see how you would like to incorporate your changes.  Should it use the changes from your branch, the other branch, or keep both.    "
   ]
  },
  {
   "cell_type": "markdown",
   "id": "9da1d862-6406-4d75-b1a3-c0ca5582fcf2",
   "metadata": {},
   "source": [
    "### Setting it up"
   ]
  },
  {
   "cell_type": "markdown",
   "id": "dc59442d-5994-49fb-9dad-4534f982611e",
   "metadata": {},
   "source": [
    "Let's set up our repository by making a new directing, initializing a git repository, and making a change to a file.  Then let's make a commit."
   ]
  },
  {
   "cell_type": "markdown",
   "id": "994e3046-c8ed-4c65-a789-fb69c8ab1bb9",
   "metadata": {},
   "source": [
    "```bash\n",
    "mkdir conflict-repo\n",
    "cd conflict-repo\n",
    "git init\n",
    "touch index.py\n",
    "echo \"print('email main users')\" > index.py\n",
    "\n",
    "git add -A\n",
    "git commit -m 'email main users'\n",
    "```"
   ]
  },
  {
   "cell_type": "markdown",
   "id": "748ce84e-0d08-4f36-b300-72de26049fd3",
   "metadata": {},
   "source": [
    "Ok, so we have one commit on the main branch.  Now let's checkout the feature branch and add two commits to the feature branch."
   ]
  },
  {
   "cell_type": "markdown",
   "id": "6ee15387-9e14-4105-a1bb-15d57e40a0e7",
   "metadata": {},
   "source": [
    "```bash\n",
    "git checkout -b feature_branch\n",
    "\n",
    "echo \"print('email new feature users')\" >> index.py\n",
    "\n",
    "git add -A\n",
    "git commit -m 'email feature users'\n",
    "\n",
    "echo \"print('text new feature users')\" >> index.py\n",
    "\n",
    "git add -A\n",
    "git commit -m 'text feature users'\n",
    "```"
   ]
  },
  {
   "cell_type": "markdown",
   "id": "34f034bd-0a38-417d-b4e3-723e26e9343f",
   "metadata": {},
   "source": [
    "So at this point both the main branch and feature branches have that email *main users* commit.   And our feature branch has two commits that our main branch doesn't have, the email, and text feature users commits.  "
   ]
  },
  {
   "cell_type": "markdown",
   "id": "208eaeda-4630-485a-9090-16742f237fbb",
   "metadata": {},
   "source": [
    "Now let's give our main branch one commit that the main branch doesn't have."
   ]
  },
  {
   "cell_type": "markdown",
   "id": "67458e30-a387-4697-8add-ab6e22dff5f8",
   "metadata": {},
   "source": [
    "```bash\n",
    "git checkout main\n",
    "\n",
    "echo \"print('text main users')\" >> index.py\n",
    "\n",
    "git add -A\n",
    "git commit -m 'text main users'\n",
    "```"
   ]
  },
  {
   "cell_type": "markdown",
   "id": "5c858e46-d3bd-42c0-8088-af417462635d",
   "metadata": {},
   "source": [
    "### Time to review"
   ]
  },
  {
   "cell_type": "markdown",
   "id": "b63fc915-7a5f-4f74-a8b9-aac5fcdd912d",
   "metadata": {},
   "source": [
    "Confused yet?  Let's take a look at the logs of each branch to see where we are."
   ]
  },
  {
   "cell_type": "markdown",
   "id": "30d3cfde-8d90-4404-8d4b-52b1de86a044",
   "metadata": {},
   "source": [
    "```bash\n",
    "git log main\n",
    "\n",
    "commit fbef581fe6006af82602f6fa31239cfe748e3e41 (HEAD -> main)\n",
    "Author: Jeff Katzy <jeffreyerickatz@gmail.com>\n",
    "Date:   Fri May 3 19:33:43 2024 -0700\n",
    "\n",
    "    text main users\n",
    "\n",
    "commit 3272fd43d930ed188cf8f8b8b1a7cb98a82a82cc\n",
    "Author: Jeff Katzy <jeffreyerickatz@gmail.com>\n",
    "Date:   Fri May 3 19:33:32 2024 -0700\n",
    "\n",
    "    email main users\n",
    "```"
   ]
  },
  {
   "cell_type": "markdown",
   "id": "8d173077-c491-4270-961f-e26f70e44012",
   "metadata": {},
   "source": [
    "So our main branch has the original commit of `email main users` and it's unique commit of `text main users`.  And our feature branch?"
   ]
  },
  {
   "cell_type": "markdown",
   "id": "d42cd2c5-5b2c-4d5d-aaee-9523737e939b",
   "metadata": {},
   "source": [
    "```bash\n",
    "git checkout feature_branch\n",
    "\n",
    "git log\n",
    "```"
   ]
  },
  {
   "cell_type": "markdown",
   "id": "e9100bfb-6b3d-45d5-83c5-c97d3445a7ae",
   "metadata": {},
   "source": [
    "```bash\n",
    "commit 1576d0f7de3af48779ba84ad62a9f50d5115e873 (HEAD -> feature_branch)\n",
    "Author: Jeff Katzy <jeffreyerickatz@gmail.com>\n",
    "Date:   Fri May 3 19:33:37 2024 -0700\n",
    "\n",
    "    text feature users\n",
    "\n",
    "commit b2be90435b310401eabdbee2dbc41d8fa3e50939\n",
    "Author: Jeff Katzy <jeffreyerickatz@gmail.com>\n",
    "Date:   Fri May 3 19:33:37 2024 -0700\n",
    "\n",
    "    email feature users\n",
    "\n",
    "commit 3272fd43d930ed188cf8f8b8b1a7cb98a82a82cc\n",
    "Author: Jeff Katzy <jeffreyerickatz@gmail.com>\n",
    "Date:   Fri May 3 19:33:32 2024 -0700\n",
    "\n",
    "    email main users\n",
    "```"
   ]
  },
  {
   "cell_type": "markdown",
   "id": "9431dd41-7df2-462b-ae1f-143a14fa1d43",
   "metadata": {},
   "source": [
    "Our feature branch has that original commit of email main users, and two unique commits of email and text feature users."
   ]
  },
  {
   "cell_type": "markdown",
   "id": "bf6e2d74-e7ae-4539-855f-904990b8d8eb",
   "metadata": {},
   "source": [
    "### Time to merge"
   ]
  },
  {
   "cell_type": "markdown",
   "id": "f53a329c-7e11-46ac-81c6-0bfab1bf88b7",
   "metadata": {},
   "source": [
    "Now let's try to merge the main branch commits onto the feature branch.  So from the feature branch, let's do a rebase."
   ]
  },
  {
   "cell_type": "markdown",
   "id": "6ab98e85-ceda-4275-b4cb-aa7c7df8d215",
   "metadata": {},
   "source": [
    "`git checkout feature_branch`"
   ]
  },
  {
   "cell_type": "markdown",
   "id": "b11b9ac5-e8d7-413f-b674-f140c73ab581",
   "metadata": {},
   "source": [
    "Then let's do a rebase."
   ]
  },
  {
   "cell_type": "markdown",
   "id": "da751088-1dd1-447f-b432-ebf17bbfbffe",
   "metadata": {},
   "source": [
    "```bash\n",
    "git rebase main\n",
    "\n",
    "Merge conflict in index.py\n",
    "error: could not apply b2be904... email feature users\n",
    "hint: Resolve all conflicts manually, mark them as resolved with\n",
    "hint: \"git add/rm <conflicted_files>\", then run \"git rebase --continue\".\n",
    "hint: You can instead skip this commit: run \"git rebase --skip\".\n",
    "hint: To abort and get back to the state before \"git rebase\", run \"git rebase --abort\".\n",
    "Could not apply b2be904... email feature users\n",
    "```"
   ]
  },
  {
   "cell_type": "markdown",
   "id": "7a792f4c-96f8-408f-94db-ede60f60b8f5",
   "metadata": {},
   "source": [
    "Ok, so it's saying it cannot apply the commit \"email feature users\".  Think about what this means.  It means from the `feature_branch`, the rebase has already applied the commits of the main branch, and now it's trying to apply the feature branch commits on top.  And that's where the conflict is occurring, with `email feature users`."
   ]
  },
  {
   "cell_type": "markdown",
   "id": "8b7b5d88-d975-4a17-8a80-d7838665bc96",
   "metadata": {},
   "source": [
    "If we do the git log, we can see this.  "
   ]
  },
  {
   "cell_type": "markdown",
   "id": "fa3becaf-0595-42ad-a757-f8fdeb893cca",
   "metadata": {},
   "source": [
    "```bash\n",
    "git log\n",
    "\n",
    "commit fbef581fe6006af82602f6fa31239cfe748e3e41 (HEAD, main)\n",
    "Author: Jeff Katzy <jeffreyerickatz@gmail.com>\n",
    "Date:   Fri May 3 19:33:43 2024 -0700\n",
    "\n",
    "    text main users\n",
    "\n",
    "commit 3272fd43d930ed188cf8f8b8b1a7cb98a82a82cc\n",
    "Author: Jeff Katzy <jeffreyerickatz@gmail.com>\n",
    "Date:   Fri May 3 19:33:32 2024 -0700\n",
    "\n",
    "    email main users\n",
    "```"
   ]
  },
  {
   "cell_type": "markdown",
   "id": "d2cd7762-a485-484b-941c-dab62dd2d212",
   "metadata": {},
   "source": [
    "So we can see that `text main users` commit has already been merged in.  Like the commit message says, we are stuck on the commit `email feature users`."
   ]
  },
  {
   "cell_type": "markdown",
   "id": "e9957ba3-75aa-41ef-b88e-073831b35c86",
   "metadata": {},
   "source": [
    "You can open the index.py file to see the issue."
   ]
  },
  {
   "cell_type": "markdown",
   "id": "19cec9e0-540e-487e-9c99-63c21e646830",
   "metadata": {},
   "source": [
    "> <img src=\"./incoming-change.png\" width=\"60%\">"
   ]
  },
  {
   "cell_type": "markdown",
   "id": "b229af90-9982-484c-a8ae-a773454aaa20",
   "metadata": {},
   "source": [
    "And now notice that the content in the HEAD section is what was just applied -- the \"text **main** users\" commit.  Then in blue, we see the feature branch commit it is attempting to apply.  This is the `print('email new feature users')`.\n",
    "\n",
    "Our task is to determine how the code should look, when we apply the `email new feature users` commit.\n",
    "\n",
    "> Below we decide to keep both the features from the main branch, and the feature from the feature branch."
   ]
  },
  {
   "cell_type": "markdown",
   "id": "0a30476b-9772-49b2-b84f-b2cf9add8d8a",
   "metadata": {},
   "source": [
    "<img src=\"./added-feature.png\" width=\"40%\">"
   ]
  },
  {
   "cell_type": "markdown",
   "id": "3bfb27f6-1c73-4b2e-8c2c-6175b15bcf19",
   "metadata": {},
   "source": [
    "So we can add these changes."
   ]
  },
  {
   "cell_type": "markdown",
   "id": "0be19311-5f35-4cbc-899d-b95a3f6a6eef",
   "metadata": {},
   "source": [
    "```bash\n",
    "git add index.py\n",
    "```"
   ]
  },
  {
   "cell_type": "markdown",
   "id": "96e429a1-e0b7-4c94-b865-6316cae3f001",
   "metadata": {},
   "source": [
    "And then see where we are."
   ]
  },
  {
   "cell_type": "markdown",
   "id": "b70904f6-d3f2-414c-9d9f-dba07621cfa4",
   "metadata": {},
   "source": [
    "```bash\n",
    "git status\n",
    "\n",
    "interactive rebase in progress; onto fbef581\n",
    "Last command done (1 command done):\n",
    "   pick b2be904 email feature users\n",
    "Next command to do (1 remaining command):\n",
    "   pick 1576d0f text feature users\n",
    "  (use \"git rebase --edit-todo\" to view and edit)\n",
    "You are currently rebasing branch 'feature_branch' on 'fbef581'.\n",
    "  (all conflicts fixed: run \"git rebase --continue\")\n",
    "\n",
    "Changes to be committed:\n",
    "  (use \"git restore --staged <file>...\" to unstage)\n",
    "\tmodified:   index.py\n",
    "```"
   ]
  },
  {
   "cell_type": "markdown",
   "id": "e03bbfbf-3347-4955-ad83-4d5a854cf4c8",
   "metadata": {},
   "source": [
    "So keep going.\n",
    "```bash\n",
    "git rebase --continue\n",
    "```"
   ]
  },
  {
   "cell_type": "markdown",
   "id": "97ba7c5e-140c-4393-a640-b7b4dab1bcbe",
   "metadata": {},
   "source": [
    "We are then asked to add a commit message."
   ]
  },
  {
   "cell_type": "markdown",
   "id": "2e4434bc-3627-46e0-84e3-ee771fa78274",
   "metadata": {},
   "source": [
    "> <img src=\"./conflict-msg.png\" width=\"60%\">"
   ]
  },
  {
   "cell_type": "markdown",
   "id": "fe5dbaa0-9613-4012-a9fe-1d919a9a372c",
   "metadata": {},
   "source": [
    "The commit message above is probably poorly named.  This isn't a separate commit about fixing the merge conflict.  Rather this *is* the commit where we add the email new feature users.  We can see this with our git log."
   ]
  },
  {
   "cell_type": "markdown",
   "id": "0db75a78-c39e-4d61-a016-74d9cbf103d8",
   "metadata": {},
   "source": [
    "```bash\n",
    "git log\n",
    "\n",
    "commit 36098fd8c26db312f67cec8dc75a6a9ce261c411 (HEAD)\n",
    "Author: Jeff Katzy <jeffreyerickatz@gmail.com>\n",
    "Date:   Fri May 3 19:33:37 2024 -0700\n",
    "\n",
    "    fix merge conflict for feature users\n",
    "\n",
    "commit fbef581fe6006af82602f6fa31239cfe748e3e41 (main)\n",
    "Author: Jeff Katzy <jeffreyerickatz@gmail.com>\n",
    "Date:   Fri May 3 19:33:43 2024 -0700\n",
    "\n",
    "    text main users\n",
    "\n",
    "commit 3272fd43d930ed188cf8f8b8b1a7cb98a82a82cc\n",
    "Author: Jeff Katzy <jeffreyerickatz@gmail.com>\n",
    "Date:   Fri May 3 19:33:32 2024 -0700\n",
    "\n",
    "    email main users\n",
    "```"
   ]
  },
  {
   "cell_type": "markdown",
   "id": "c93bb338-2939-42e4-aeea-b9521b6234a4",
   "metadata": {},
   "source": [
    "So notice that on the feature branch we have the email main users, the text main user (both from the main branch) and then that first commit from the feature branch applied on top.  \n",
    "\n",
    "Because we did a `git rebase --continue`, we should now be stuck at the next merge conflict."
   ]
  },
  {
   "cell_type": "markdown",
   "id": "846162a8-cf67-40fd-b8ab-b2e1b1c42420",
   "metadata": {},
   "source": [
    "This is occurring because git is now trying to apply the second feature branch commit -- the `text new feature users` commit."
   ]
  },
  {
   "cell_type": "markdown",
   "id": "2ec63347-376e-4a69-9645-242cbf2f7c96",
   "metadata": {
    "tags": []
   },
   "source": [
    "> <img src=\"./apply-change.png\" width=\"60%\">"
   ]
  },
  {
   "cell_type": "markdown",
   "id": "8f1e8d7b-5a50-48c0-833c-35a598f75056",
   "metadata": {},
   "source": [
    "So let's resolve the merge conflict by updating the file, so that it has the correct state when the next commit is applied."
   ]
  },
  {
   "cell_type": "markdown",
   "id": "8d985243-b0e4-4fc5-9760-a088b2337525",
   "metadata": {
    "tags": []
   },
   "source": [
    "> <img src=\"./next-fix.png\" width=\"60%\">"
   ]
  },
  {
   "cell_type": "markdown",
   "id": "86f41086-3caf-4296-98b0-db54e828c4fb",
   "metadata": {},
   "source": [
    "Again type:\n",
    "    \n",
    "* `git add index.py` \n",
    "* `git rebase --continue`"
   ]
  },
  {
   "cell_type": "markdown",
   "id": "90d9734d-4519-446b-ab59-6f0fd4aa56c7",
   "metadata": {},
   "source": [
    "And finally, we just need to add in the feature commit."
   ]
  },
  {
   "cell_type": "markdown",
   "id": "180cffff-0038-4db9-9370-11e2fc8942b3",
   "metadata": {},
   "source": [
    "> <img src=\"./text-feature-users.png\" width=\"60%\">"
   ]
  },
  {
   "cell_type": "markdown",
   "id": "e8dd0eb4-ea34-4e23-aec1-93c1ad850f91",
   "metadata": {},
   "source": [
    "And then finally we can see where we are.\n",
    "\n",
    "```bash\n",
    "git log \n",
    "\n",
    "commit b65ec4b8bf23fd7f8217daf8d5af5599cf91ead6 (HEAD -> feature_branch)\n",
    "Author: Jeff Katzy <jeffreyerickatz@gmail.com>\n",
    "Date:   Fri May 3 19:33:37 2024 -0700\n",
    "\n",
    "    text feature users\n",
    "\n",
    "commit 36098fd8c26db312f67cec8dc75a6a9ce261c411\n",
    "Author: Jeff Katzy <jeffreyerickatz@gmail.com>\n",
    "Date:   Fri May 3 19:33:37 2024 -0700\n",
    "\n",
    "    fix merge conflict for feature users\n",
    "\n",
    "commit fbef581fe6006af82602f6fa31239cfe748e3e41 (main)\n",
    "Author: Jeff Katzy <jeffreyerickatz@gmail.com>\n",
    "Date:   Fri May 3 19:33:43 2024 -0700\n",
    "\n",
    "    text main users\n",
    "\n",
    "commit 3272fd43d930ed188cf8f8b8b1a7cb98a82a82cc\n",
    "Author: Jeff Katzy <jeffreyerickatz@gmail.com>\n",
    "Date:   Fri May 3 19:33:32 2024 -0700\n",
    "\n",
    "    email main users\n",
    "```"
   ]
  },
  {
   "cell_type": "markdown",
   "id": "37ce5a30-be0d-4d54-b396-399f7bfc4356",
   "metadata": {},
   "source": [
    "### What we learned"
   ]
  },
  {
   "cell_type": "markdown",
   "id": "ae2ffac8-ad9e-4774-882d-2c46e5984d6c",
   "metadata": {},
   "source": [
    "So when we applied the rebase, git first applied the main branch commits and then tried to place the feature commits on top.  In applying the first commit, there was a conflict that we needed to resolve.  And then after `git add index.py`, `git rebase --continue`, there was a second commit that needed to be applied.\n",
    "\n",
    "The end result was the normal result of a rebase, we now share a common history with the main branch, and the feature branch is two commits ahead.  This is the correct state.  We could now either integrate our changes by merging into the main branch, or push up to the feature branch on github and submitting a pull request."
   ]
  },
  {
   "cell_type": "code",
   "execution_count": null,
   "id": "b634dbf6-9ac5-4f4d-9ac1-52d49f6fefa9",
   "metadata": {},
   "outputs": [],
   "source": []
  }
 ],
 "metadata": {
  "kernelspec": {
   "display_name": "Python 3 (ipykernel)",
   "language": "python",
   "name": "python3"
  },
  "language_info": {
   "codemirror_mode": {
    "name": "ipython",
    "version": 3
   },
   "file_extension": ".py",
   "mimetype": "text/x-python",
   "name": "python",
   "nbconvert_exporter": "python",
   "pygments_lexer": "ipython3",
   "version": "3.10.14"
  }
 },
 "nbformat": 4,
 "nbformat_minor": 5
}
